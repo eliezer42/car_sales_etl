{
 "cells": [
  {
   "attachments": {},
   "cell_type": "markdown",
   "metadata": {},
   "source": [
    "## Car Sales Dataset\n",
    "### Importing and inspecting the data\n",
    "When you are working with data, the first thing you would want to do is to make sure you understand the overall content of the dataset.\n",
    "What's important to know in this step is not only the size and content of the dataset, but also what's the appropiate data type of each column and how many useful observations you have."
   ]
  },
  {
   "cell_type": "code",
   "execution_count": 10,
   "metadata": {},
   "outputs": [
    {
     "data": {
      "text/html": [
       "<div>\n",
       "<style scoped>\n",
       "    .dataframe tbody tr th:only-of-type {\n",
       "        vertical-align: middle;\n",
       "    }\n",
       "\n",
       "    .dataframe tbody tr th {\n",
       "        vertical-align: top;\n",
       "    }\n",
       "\n",
       "    .dataframe thead th {\n",
       "        text-align: right;\n",
       "    }\n",
       "</style>\n",
       "<table border=\"1\" class=\"dataframe\">\n",
       "  <thead>\n",
       "    <tr style=\"text-align: right;\">\n",
       "      <th></th>\n",
       "      <th>Make</th>\n",
       "      <th>Model</th>\n",
       "      <th>Nickname</th>\n",
       "      <th>Car Gender</th>\n",
       "      <th>Buyer Gender</th>\n",
       "      <th>Buyer Age</th>\n",
       "      <th>Buzzword</th>\n",
       "      <th>Country</th>\n",
       "      <th>City</th>\n",
       "      <th>Dealer Latitude</th>\n",
       "      <th>Dealer Longitude</th>\n",
       "      <th>Color</th>\n",
       "      <th>New Car</th>\n",
       "      <th>Purchase Date</th>\n",
       "      <th>Sale Price</th>\n",
       "      <th>Discount</th>\n",
       "      <th>Resell Price</th>\n",
       "      <th>5-yr Depreciation</th>\n",
       "      <th>Top Speed</th>\n",
       "      <th>0-60 Time</th>\n",
       "    </tr>\n",
       "  </thead>\n",
       "  <tbody>\n",
       "    <tr>\n",
       "      <th>0</th>\n",
       "      <td>Suzuki</td>\n",
       "      <td>Vitara</td>\n",
       "      <td>Philippine</td>\n",
       "      <td>Female</td>\n",
       "      <td>Female</td>\n",
       "      <td>51</td>\n",
       "      <td>User-friendly</td>\n",
       "      <td>Belgium</td>\n",
       "      <td>Antwerpen</td>\n",
       "      <td>51.247239</td>\n",
       "      <td>4.440346</td>\n",
       "      <td>Yellow</td>\n",
       "      <td>False</td>\n",
       "      <td>2009-07-19</td>\n",
       "      <td>54806.14</td>\n",
       "      <td>0.2467</td>\n",
       "      <td>33858.32</td>\n",
       "      <td>0.13</td>\n",
       "      <td>200.9</td>\n",
       "      <td>11.5</td>\n",
       "    </tr>\n",
       "    <tr>\n",
       "      <th>1</th>\n",
       "      <td>Honda</td>\n",
       "      <td>S2000</td>\n",
       "      <td>Henrik</td>\n",
       "      <td>Male</td>\n",
       "      <td>Male</td>\n",
       "      <td>30</td>\n",
       "      <td>analyzing</td>\n",
       "      <td>China</td>\n",
       "      <td>Jinhu</td>\n",
       "      <td>33.025433</td>\n",
       "      <td>119.020584</td>\n",
       "      <td>Crimson</td>\n",
       "      <td>False</td>\n",
       "      <td>2015-10-26</td>\n",
       "      <td>51826.30</td>\n",
       "      <td>0.3147</td>\n",
       "      <td>2989.28</td>\n",
       "      <td>0.02</td>\n",
       "      <td>158.5</td>\n",
       "      <td>8.8</td>\n",
       "    </tr>\n",
       "  </tbody>\n",
       "</table>\n",
       "</div>"
      ],
      "text/plain": [
       "     Make   Model    Nickname Car Gender Buyer Gender  Buyer Age  \\\n",
       "0  Suzuki  Vitara  Philippine     Female       Female         51   \n",
       "1   Honda   S2000      Henrik       Male         Male         30   \n",
       "\n",
       "        Buzzword  Country       City  Dealer Latitude  Dealer Longitude  \\\n",
       "0  User-friendly  Belgium  Antwerpen        51.247239          4.440346   \n",
       "1      analyzing    China      Jinhu        33.025433        119.020584   \n",
       "\n",
       "     Color  New Car Purchase Date  Sale Price  Discount  Resell Price  \\\n",
       "0   Yellow    False    2009-07-19    54806.14    0.2467      33858.32   \n",
       "1  Crimson    False    2015-10-26    51826.30    0.3147       2989.28   \n",
       "\n",
       "   5-yr Depreciation  Top Speed  0-60 Time  \n",
       "0               0.13      200.9       11.5  \n",
       "1               0.02      158.5        8.8  "
      ]
     },
     "metadata": {},
     "output_type": "display_data"
    },
    {
     "name": "stdout",
     "output_type": "stream",
     "text": [
      "<class 'pandas.core.frame.DataFrame'>\n",
      "RangeIndex: 10000 entries, 0 to 9999\n",
      "Data columns (total 20 columns):\n",
      " #   Column             Non-Null Count  Dtype         \n",
      "---  ------             --------------  -----         \n",
      " 0   Make               9998 non-null   object        \n",
      " 1   Model              10000 non-null  object        \n",
      " 2   Nickname           10000 non-null  object        \n",
      " 3   Car Gender         10000 non-null  object        \n",
      " 4   Buyer Gender       9998 non-null   object        \n",
      " 5   Buyer Age          10000 non-null  int64         \n",
      " 6   Buzzword           10000 non-null  object        \n",
      " 7   Country            9998 non-null   object        \n",
      " 8   City               9999 non-null   object        \n",
      " 9   Dealer Latitude    10000 non-null  float64       \n",
      " 10  Dealer Longitude   10000 non-null  float64       \n",
      " 11  Color              9999 non-null   object        \n",
      " 12  New Car            10000 non-null  bool          \n",
      " 13  Purchase Date      10000 non-null  datetime64[ns]\n",
      " 14  Sale Price         10000 non-null  float64       \n",
      " 15  Discount           10000 non-null  float64       \n",
      " 16  Resell Price       10000 non-null  float64       \n",
      " 17  5-yr Depreciation  10000 non-null  float64       \n",
      " 18  Top Speed          10000 non-null  float64       \n",
      " 19  0-60 Time          10000 non-null  float64       \n",
      "dtypes: bool(1), datetime64[ns](1), float64(8), int64(1), object(9)\n",
      "memory usage: 1.5+ MB\n"
     ]
    }
   ],
   "source": [
    "import pandas as pd\n",
    "import matplotlib.pyplot as plt\n",
    "\n",
    "car_sales_df = pd.read_csv('./input/car_sales.csv',encoding='utf-8', parse_dates=['Purchase Date'], dayfirst=True)\n",
    "\n",
    "display(car_sales_df.head(2))\n",
    "car_sales_df.info()\n"
   ]
  },
  {
   "cell_type": "code",
   "execution_count": 11,
   "metadata": {},
   "outputs": [
    {
     "data": {
      "text/plain": [
       "Make                 2\n",
       "Model                0\n",
       "Nickname             0\n",
       "Car Gender           0\n",
       "Buyer Gender         2\n",
       "Buyer Age            0\n",
       "Buzzword             0\n",
       "Country              2\n",
       "City                 1\n",
       "Dealer Latitude      0\n",
       "Dealer Longitude     0\n",
       "Color                1\n",
       "New Car              0\n",
       "Purchase Date        0\n",
       "Sale Price           0\n",
       "Discount             0\n",
       "Resell Price         0\n",
       "5-yr Depreciation    0\n",
       "Top Speed            0\n",
       "0-60 Time            0\n",
       "dtype: int64"
      ]
     },
     "metadata": {},
     "output_type": "display_data"
    }
   ],
   "source": [
    "display(car_sales_df.isna().sum())\n",
    "car_sales_df.dropna(inplace=True)"
   ]
  },
  {
   "cell_type": "code",
   "execution_count": 12,
   "metadata": {},
   "outputs": [
    {
     "data": {
      "text/plain": [
       "<function matplotlib.pyplot.show(close=None, block=None)>"
      ]
     },
     "execution_count": 12,
     "metadata": {},
     "output_type": "execute_result"
    },
    {
     "data": {
      "image/png": "[encoded data removed]",
      "text/plain": [
       "<Figure size 432x288 with 1 Axes>"
      ]
     },
     "metadata": {
      "needs_background": "light"
     },
     "output_type": "display_data"
    }
   ],
   "source": [
    "plt.hist(car_sales_df['Sale Price'], bins = 9)\n",
    "plt.xlabel(\"Sale Price [USD]\")\n",
    "plt.ylabel(\"Quantity\")\n",
    "plt.title(\"The distribution of prices [USD]\")\n",
    "plt.show"
   ]
  },
  {
   "cell_type": "code",
   "execution_count": 13,
   "metadata": {},
   "outputs": [
    {
     "data": {
      "text/plain": [
       "Make           Model     \n",
       "Chevrolet      Corvette      70\n",
       "Ford           Mustang       55\n",
       "Pontiac        Grand Prix    54\n",
       "Chevrolet      Camaro        52\n",
       "Mercedes-Benz  S-Class       50\n",
       "                             ..\n",
       "Buick          Special        1\n",
       "Suzuki         Cultus         1\n",
       "Chrysler       300C           1\n",
       "Cadillac       Brougham       1\n",
       "Chevrolet      Citation       1\n",
       "Length: 989, dtype: int64"
      ]
     },
     "execution_count": 13,
     "metadata": {},
     "output_type": "execute_result"
    }
   ],
   "source": [
    "car_sales_df.groupby(['Make','Model']).size().sort_values(ascending=False)\n"
   ]
  },
  {
   "attachments": {},
   "cell_type": "markdown",
   "metadata": {},
   "source": [
    "Now we know what's the schema of the dataset, the data types and the distribution of some variables. It is also noticeable that there are some missing values that we will have to deal with."
   ]
  }
 ],
 "metadata": {
  "kernelspec": {
   "display_name": "Python 3",
   "language": "python",
   "name": "python3"
  },
  "language_info": {
   "codemirror_mode": {
    "name": "ipython",
    "version": 3
   },
   "file_extension": ".py",
   "mimetype": "text/x-python",
   "name": "python",
   "nbconvert_exporter": "python",
   "pygments_lexer": "ipython3",
   "version": "3.9.10"
  },
  "orig_nbformat": 4,
  "vscode": {
   "interpreter": {
    "hash": "70f1e47ea583357c8a513d9b8555759eec3c00eca19176b8232e7d01b7482bdd"
   }
  }
 },
 "nbformat": 4,
 "nbformat_minor": 2
}
